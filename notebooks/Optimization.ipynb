{
 "metadata": {
  "name": ""
 },
 "nbformat": 3,
 "nbformat_minor": 0,
 "worksheets": [
  {
   "cells": [
    {
     "cell_type": "code",
     "collapsed": false,
     "input": [
      "%matplotlib inline\n",
      "from matplotlib import pyplot\n",
      "import cvxopt as cvx\n",
      "import picos\n",
      "import scipy\n",
      "import numpy\n",
      "import scipy.signal\n",
      "import spectrum\n"
     ],
     "language": "python",
     "metadata": {},
     "outputs": [],
     "prompt_number": 1
    },
    {
     "cell_type": "code",
     "collapsed": false,
     "input": [
      "g = 0.5 * numpy.array([[0.25, .5, 0, 1, 0.25]]).reshape(-1, 1)\n",
      "\n",
      "D = 8\n",
      "n = 20\n",
      "\n",
      "m = 10 * (g.shape[0] + n)\n",
      "w = numpy.linspace(0, numpy.pi, m).reshape(-1, 1)"
     ],
     "language": "python",
     "metadata": {},
     "outputs": [],
     "prompt_number": 2
    },
    {
     "cell_type": "code",
     "collapsed": false,
     "input": [
      "\n",
      "#http://picos.zib.de/optdes.html#sdp-formulation-of-the-c-optimal-design-problem\n",
      "#http://stanford.edu/~boyd/papers/matlab/rob_eq/rob_equalization_sdp.m\\\n",
      "#http://stanford.edu/~boyd/papers/matlab/rob_eq/sup_ellip_equalizer.m\n",
      "\n",
      "A = numpy.exp(-1j * numpy.kron(w, numpy.arange(n)))\n",
      "G = numpy.dot(numpy.exp(-1j * numpy.kron(w, numpy.arange(g.shape[0]))), g)\n",
      "Gdes = numpy.exp(-1j*D*w)"
     ],
     "language": "python",
     "metadata": {},
     "outputs": [],
     "prompt_number": 3
    },
    {
     "cell_type": "code",
     "collapsed": false,
     "input": [
      "problem = picos.Problem(verbose='0', solver='cvxopt')\n",
      "\n",
      "hnom = problem.add_variable('hnom', (n, 1), 'complex', lower=0)\n"
     ],
     "language": "python",
     "metadata": {},
     "outputs": [],
     "prompt_number": 4
    },
    {
     "cell_type": "code",
     "collapsed": false,
     "input": [
      "\"\"\"\n",
      "A_cvx = cvx.matrix(A)\n",
      "G_cvx = cvx.matrix(G)\n",
      "Gdes_cvx = cvx.matrix(Gdes)\n",
      "\n",
      "\n",
      "A_cvx = picos.new_param('A', A_cvx)\n",
      "G_cvx = picos.new_param('G', G_cvx)\n",
      "Gdes_cvx = picos.new_param('Gdes', Gdes_cvx)\n",
      "\n",
      "val = (A_cvx * hnom).hadamard(G_cvx, tc='z') - Gdes_cvx\n",
      "\n",
      "#val.Htranspose() * val\n",
      "problem.set_objective('min', picos.norm(val, 100000))\n",
      "\n",
      "\n",
      "#problem.set_objective('min', picos.norm((A_cvx * hnom) ^ G_cvx - Gdes_cvx, 100000))\n",
      "#problem.set_objective('min', abs((A_cvx * hnom) ^ G_cvx - Gdes_cvx))\n",
      "#G_cvx\n",
      "#problem.set_objective('min', numpy.max(numpy.abs(cvx.mul((A_cvx * hnom) * G_cvx) - Gdes_cvx)))_\n",
      "\"\"\""
     ],
     "language": "python",
     "metadata": {},
     "outputs": [
      {
       "metadata": {},
       "output_type": "pyout",
       "prompt_number": 5,
       "text": [
        "\"\\nA_cvx = cvx.matrix(A)\\nG_cvx = cvx.matrix(G)\\nGdes_cvx = cvx.matrix(Gdes)\\n\\n\\nA_cvx = picos.new_param('A', A_cvx)\\nG_cvx = picos.new_param('G', G_cvx)\\nGdes_cvx = picos.new_param('Gdes', Gdes_cvx)\\n\\nval = (A_cvx * hnom).hadamard(G_cvx, tc='z') - Gdes_cvx\\n\\n#val.Htranspose() * val\\nproblem.set_objective('min', picos.norm(val, 100000))\\n\\n\\n#problem.set_objective('min', picos.norm((A_cvx * hnom) ^ G_cvx - Gdes_cvx, 100000))\\n#problem.set_objective('min', abs((A_cvx * hnom) ^ G_cvx - Gdes_cvx))\\n#G_cvx\\n#problem.set_objective('min', numpy.max(numpy.abs(cvx.mul((A_cvx * hnom) * G_cvx) - Gdes_cvx)))_\\n\""
       ]
      }
     ],
     "prompt_number": 5
    },
    {
     "cell_type": "code",
     "collapsed": false,
     "input": [
      "problem = picos.Problem(verbose='2', solver='cvxopt')\n",
      "\n",
      "delta = problem.add_variable('delta', 1, lower=0)\n",
      "R = problem.add_variable('R', (n, 1), lower=0)\n",
      "alpha = 1.01\n",
      "#1 / 1.01**2 < R\n",
      "#R > 1.01\n",
      "\n",
      "numpy.hstack([\n",
      "numpy.ones((2, 1)),             \n",
      "numpy.array([[1, 2], [3, 4]])\n",
      "]\n",
      ")\n",
      "\n"
     ],
     "language": "python",
     "metadata": {},
     "outputs": [
      {
       "metadata": {},
       "output_type": "pyout",
       "prompt_number": 6,
       "text": [
        "array([[ 1.,  1.,  2.],\n",
        "       [ 1.,  3.,  4.]])"
       ]
      }
     ],
     "prompt_number": 6
    },
    {
     "cell_type": "code",
     "collapsed": false,
     "input": [],
     "language": "python",
     "metadata": {},
     "outputs": [
      {
       "ename": "SyntaxError",
       "evalue": "invalid syntax (<ipython-input-7-82892c7e61e9>, line 4)",
       "output_type": "pyerr",
       "traceback": [
        "\u001b[0;36m  File \u001b[0;32m\"<ipython-input-7-82892c7e61e9>\"\u001b[0;36m, line \u001b[0;32m4\u001b[0m\n\u001b[0;31m    problem.add_constraint(\u001b[0m\n\u001b[0m                           ^\u001b[0m\n\u001b[0;31mSyntaxError\u001b[0m\u001b[0;31m:\u001b[0m invalid syntax\n"
       ]
      }
     ],
     "prompt_number": 7
    },
    {
     "cell_type": "code",
     "collapsed": false,
     "input": [
      "import numpy as np\n",
      "import cvxopt as cvx\n",
      "import picos as pic\n",
      "\n",
      "n    = 5\n",
      "rank = 4  #we take a singular M for the sake of generality\n",
      "\n",
      "M = cvx.normal (n,rank) +1j*cvx.normal (n,rank)\n",
      "M = M * M.H\n",
      "M = pic.new_param('M',M)\n",
      "\n",
      "P = pic.Problem()\n",
      "U = P.add_variable('U',(n,n),'hermitian')\n",
      "P.add_list_of_constraints([U[i,i]==1 for i in range(n)],'i')\n",
      "P.add_constraint(U >> 0)\n",
      "\n",
      "P.set_objective('min', U | M)\n",
      "\n",
      "print P\n",
      "\n",
      "#solve the problem\n",
      "P.solve(verbose=0)\n",
      "\n",
      "#optimal complex variable\n",
      "print\n",
      "print 'optimal variable: U='\n",
      "print U\n",
      "print\n",
      "\n",
      "#Do we have a matrix of rank one ?\n",
      "S, V = np.linalg.eig(U.value)\n",
      "print 'rank of U = ', len([s for s in S if abs(s)>1e-6])"
     ],
     "language": "python",
     "metadata": {},
     "outputs": []
    },
    {
     "cell_type": "code",
     "collapsed": false,
     "input": [],
     "language": "python",
     "metadata": {},
     "outputs": []
    }
   ],
   "metadata": {}
  }
 ]
}